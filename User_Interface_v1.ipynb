{
 "cells": [
  {
   "cell_type": "markdown",
   "metadata": {},
   "source": [
    "# Title Goes Here"
   ]
  },
  {
   "cell_type": "markdown",
   "metadata": {},
   "source": [
    "### Python Requirements"
   ]
  },
  {
   "cell_type": "code",
   "execution_count": 9,
   "metadata": {
    "collapsed": true
   },
   "outputs": [],
   "source": [
    "from sklearn import svm\n",
    "SVC = svm.SVC()\n",
    "import matplotlib.pyplot as plt\n",
    "%matplotlib inline\n",
    "import numpy as np\n",
    "import os.path"
   ]
  },
  {
   "cell_type": "markdown",
   "metadata": {
    "collapsed": true
   },
   "source": [
    "### Load HTML/CSS/JavaScript requirements"
   ]
  },
  {
   "cell_type": "code",
   "execution_count": 10,
   "metadata": {
    "collapsed": false
   },
   "outputs": [
    {
     "data": {
      "application/javascript": [
       "require.config({\n",
       "  paths: {\n",
       "      d3: '//cdnjs.cloudflare.com/ajax/libs/d3/3.4.8/d3.min'\n",
       "  }\n",
       "});"
      ],
      "text/plain": [
       "<IPython.core.display.Javascript object>"
      ]
     },
     "metadata": {},
     "output_type": "display_data"
    }
   ],
   "source": [
    "%%javascript\n",
    "require.config({\n",
    "  paths: {\n",
    "      d3: '//cdnjs.cloudflare.com/ajax/libs/d3/3.4.8/d3.min'\n",
    "  }\n",
    "});"
   ]
  },
  {
   "cell_type": "code",
   "execution_count": 11,
   "metadata": {
    "collapsed": false
   },
   "outputs": [
    {
     "data": {
      "application/javascript": [
       "require.config({\n",
       "  paths: {\n",
       "      bootstrapCSS: '//maxcdn.bootstrapcdn.com/bootstrap/3.3.7/css/bootstrap.min.css'\n",
       "  }\n",
       "});"
      ],
      "text/plain": [
       "<IPython.core.display.Javascript object>"
      ]
     },
     "metadata": {},
     "output_type": "display_data"
    }
   ],
   "source": [
    "%%javascript\n",
    "require.config({\n",
    "  paths: {\n",
    "      bootstrapCSS: '//maxcdn.bootstrapcdn.com/bootstrap/3.3.7/css/bootstrap.min.css'\n",
    "  }\n",
    "});"
   ]
  },
  {
   "cell_type": "code",
   "execution_count": 12,
   "metadata": {
    "collapsed": false
   },
   "outputs": [
    {
     "data": {
      "application/javascript": [
       "require.config({\n",
       "  paths: {\n",
       "      bootstrap: '//maxcdn.bootstrapcdn.com/bootstrap/3.3.7/js/bootstrap.min.js'\n",
       "  }\n",
       "});"
      ],
      "text/plain": [
       "<IPython.core.display.Javascript object>"
      ]
     },
     "metadata": {},
     "output_type": "display_data"
    }
   ],
   "source": [
    "%%javascript\n",
    "require.config({\n",
    "  paths: {\n",
    "      bootstrap: '//maxcdn.bootstrapcdn.com/bootstrap/3.3.7/js/bootstrap.min.js'\n",
    "  }\n",
    "});"
   ]
  },
  {
   "cell_type": "markdown",
   "metadata": {},
   "source": [
    "## User Interface"
   ]
  },
  {
   "cell_type": "markdown",
   "metadata": {},
   "source": [
    "Eventually, this might be moved to a normal HTML/CSS/JS webpage outside of a jupyter notebook that is accessible like any other webpage and either talks to a server to run the models or if want to get really fancy (and more secure) does everything including applying the model in the browser by porting the python code to JavaScript via web assembly. For now though, we're just running it in the jupyter notebook."
   ]
  },
  {
   "cell_type": "markdown",
   "metadata": {},
   "source": [
    "#### HTML, CSS, and JavaScript code for User Interface"
   ]
  },
  {
   "cell_type": "code",
   "execution_count": 62,
   "metadata": {
    "collapsed": false
   },
   "outputs": [
    {
     "data": {
      "text/html": [
       "\n",
       "<style>\n",
       " body {\n",
       "    background-color: lightblue;\n",
       "}\n",
       "div#title{\n",
       "    text-align:center;\n",
       "    margin-top: 40px;\n",
       "    margin-bottom: 40px;\n",
       "    hieght: 150px;\n",
       "}\n",
       "div#parameters {\n",
       "    height: 100px;\n",
       "    text-align: center;\n",
       "    margin: 50px\n",
       "}\n",
       "h2#parameters {\n",
       "    height: 50px; \n",
       "}\n",
       "div.marginL {\n",
       "\n",
       "}\n",
       "</style>\n",
       "<div id=\"title\">\n",
       "    <h1>Seismic Shotgather Record Colorizer</h1>\n",
       "</div>\n",
       "<div id=\"parameters\" style=\"height:100px;\">\n",
       "    <h2>Parameters</h2>\n",
       "    <div>\n",
       "         Reflections: <input type=\"text\" id=\"var_name\" value=\"10\">\n",
       "         Coherent Noise: <input type=\"text\" id=\"var_name\" value=\"8\"><br>\n",
       "         <button onclick=\"set_value()\">Generate images & Train Model</button>\n",
       "         <button onclick=\"set_value()\">Use Model to label right image</button>\n",
       "    </div>\n",
       "</div>\n",
       "<div class=\"col-md-1 marginL\">\n",
       "</div>\n",
       "<div class=\"col-md-5 marginL\">\n",
       "    <h4>Labeled Data</h4>\n",
       "    <p>Came with labels, which are colored.</p>\n",
       "    <p>Labels used to generate SVM ML model.</p>\n",
       "    <img src=\"damn_raccoon.png\" alt=\"Fjords\" width=\"300\" height=\"200\">\n",
       "</div>\n",
       "<div class=\"col-md-5 marginL\">\n",
       "    <h4>Unlabled Data</h4>\n",
       "    <p>Labels (colors) not original but found using model</p>\n",
       "    <p>Model came from example to left</p>\n",
       "    <img src=\"damn_raccoon.png\" alt=\"Fjords\" width=\"300\" height=\"200\">\n",
       "    <div>\n",
       "        <button onclick=\"set_value()\">Export image now colorized by SVM model</button>\n",
       "    </div>\n",
       "</div>\n",
       "\n",
       "<script type=\"text/Javascript\">\n",
       "    function set_value(){\n",
       "        var var_name = document.getElementById('var_name').value;\n",
       "        var var_value = document.getElementById('var_value').value;\n",
       "        var command = var_name + \" = '\" + var_value + \"'\";\n",
       "        console.log(\"Executing Command: \" + command);\n",
       "        \n",
       "        var kernel = IPython.notebook.kernel;\n",
       "        kernel.execute(command);\n",
       "    }\n",
       "</script>\n"
      ],
      "text/plain": [
       "<IPython.core.display.HTML object>"
      ]
     },
     "execution_count": 62,
     "metadata": {},
     "output_type": "execute_result"
    }
   ],
   "source": [
    "input_form = \"\"\"\n",
    "<style>\n",
    " body {\n",
    "    background-color: lightblue;\n",
    "}\n",
    "div#title{\n",
    "    text-align:center;\n",
    "    margin-top: 40px;\n",
    "    margin-bottom: 40px;\n",
    "    hieght: 150px;\n",
    "}\n",
    "div#parameters {\n",
    "    height: 100px;\n",
    "    text-align: center;\n",
    "    margin: 50px\n",
    "}\n",
    "h2#parameters {\n",
    "    height: 50px; \n",
    "}\n",
    "div.marginL {\n",
    "\n",
    "}\n",
    "</style>\n",
    "<div id=\"title\">\n",
    "    <h1>Seismic Shotgather Record Colorizer</h1>\n",
    "</div>\n",
    "<div id=\"parameters\" style=\"height:100px;\">\n",
    "    <h2>Parameters</h2>\n",
    "    <div>\n",
    "         Reflections: <input type=\"text\" id=\"var_name\" value=\"10\">\n",
    "         Coherent Noise: <input type=\"text\" id=\"var_name\" value=\"8\"><br>\n",
    "         <button onclick=\"set_value()\">Generate images & Train Model</button>\n",
    "         <button onclick=\"set_value()\">Use Model to label right image</button>\n",
    "    </div>\n",
    "</div>\n",
    "<div class=\"col-md-1 marginL\">\n",
    "</div>\n",
    "<div class=\"col-md-5 marginL\">\n",
    "    <h4>Labeled Data</h4>\n",
    "    <p>Came with labels, which are colored.</p>\n",
    "    <p>Labels used to generate SVM ML model.</p>\n",
    "    <img src=\"damn_raccoon.png\" alt=\"Fjords\" width=\"300\" height=\"200\">\n",
    "</div>\n",
    "<div class=\"col-md-5 marginL\">\n",
    "    <h4>Unlabled Data</h4>\n",
    "    <p>Labels (colors) not original but found using model</p>\n",
    "    <p>Model came from example to left</p>\n",
    "    <img src=\"damn_raccoon.png\" alt=\"Fjords\" width=\"300\" height=\"200\">\n",
    "    <div>\n",
    "        <button onclick=\"set_value()\">Export image now colorized by SVM model</button>\n",
    "    </div>\n",
    "</div>\n",
    "\"\"\"\n",
    "\n",
    "javascript = \"\"\"\n",
    "<script type=\"text/Javascript\">\n",
    "    function set_value(){\n",
    "        var var_name = document.getElementById('var_name').value;\n",
    "        var var_value = document.getElementById('var_value').value;\n",
    "        var command = var_name + \" = '\" + var_value + \"'\";\n",
    "        console.log(\"Executing Command: \" + command);\n",
    "        \n",
    "        var kernel = IPython.notebook.kernel;\n",
    "        kernel.execute(command);\n",
    "    }\n",
    "</script>\n",
    "\"\"\"\n",
    "\n",
    "HTML(input_form + javascript)"
   ]
  },
  {
   "cell_type": "code",
   "execution_count": null,
   "metadata": {
    "collapsed": true
   },
   "outputs": [],
   "source": []
  },
  {
   "cell_type": "code",
   "execution_count": null,
   "metadata": {
    "collapsed": true
   },
   "outputs": [],
   "source": []
  },
  {
   "cell_type": "code",
   "execution_count": null,
   "metadata": {
    "collapsed": true
   },
   "outputs": [],
   "source": []
  }
 ],
 "metadata": {
  "kernelspec": {
   "display_name": "Python 3",
   "language": "python",
   "name": "python3"
  },
  "language_info": {
   "codemirror_mode": {
    "name": "ipython",
    "version": 3
   },
   "file_extension": ".py",
   "mimetype": "text/x-python",
   "name": "python",
   "nbconvert_exporter": "python",
   "pygments_lexer": "ipython3",
   "version": "3.5.2"
  }
 },
 "nbformat": 4,
 "nbformat_minor": 0
}
