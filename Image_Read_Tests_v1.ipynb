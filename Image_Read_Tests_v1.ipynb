{
 "cells": [
  {
   "cell_type": "code",
   "execution_count": 2,
   "metadata": {
    "collapsed": true
   },
   "outputs": [],
   "source": [
    "import numpy as np\n",
    "import matplotlib.pyplot as plt\n",
    "from scipy import ndimage as ndi\n",
    "from scipy import misc\n",
    "from skimage import feature\n",
    "\n"
   ]
  },
  {
   "cell_type": "code",
   "execution_count": 3,
   "metadata": {
    "collapsed": false
   },
   "outputs": [
    {
     "name": "stderr",
     "output_type": "stream",
     "text": [
      "/Users/justingosses/anaconda/lib/python3.5/site-packages/matplotlib/tight_layout.py:222: UserWarning: tight_layout : falling back to Agg renderer\n",
      "  warnings.warn(\"tight_layout : falling back to Agg renderer\")\n"
     ]
    }
   ],
   "source": [
    "\n",
    "# Generate noisy image of a square\n",
    "im = np.zeros((128, 128))\n",
    "im[32:-32, 32:-32] = 1\n",
    "\n",
    "im = ndi.rotate(im, 15, mode='constant')\n",
    "im = ndi.gaussian_filter(im, 4)\n",
    "im += 0.2 * np.random.random(im.shape)\n",
    "\n",
    "# Compute the Canny filter for two values of sigma\n",
    "edges1 = feature.canny(im)\n",
    "edges2 = feature.canny(im, sigma=3)\n",
    "\n",
    "# display results\n",
    "fig, (ax1, ax2, ax3) = plt.subplots(nrows=1, ncols=3, figsize=(8, 3),\n",
    "                                    sharex=True, sharey=True)\n",
    "\n",
    "ax1.imshow(im, cmap=plt.cm.gray)\n",
    "ax1.axis('off')\n",
    "ax1.set_title('noisy image', fontsize=20)\n",
    "\n",
    "ax2.imshow(edges1, cmap=plt.cm.gray)\n",
    "ax2.axis('off')\n",
    "ax2.set_title('Canny filter, $\\sigma=1$', fontsize=20)\n",
    "\n",
    "ax3.imshow(edges2, cmap=plt.cm.gray)\n",
    "ax3.axis('off')\n",
    "ax3.set_title('Canny filter, $\\sigma=3$', fontsize=20)\n",
    "\n",
    "fig.tight_layout()\n",
    "\n",
    "plt.show()"
   ]
  },
  {
   "cell_type": "code",
   "execution_count": 8,
   "metadata": {
    "collapsed": true
   },
   "outputs": [],
   "source": [
    "# from scipy import misc\n",
    "# # f = misc.face()\n",
    "# # misc.imsave('gathers_test.png', f) # uses the Image module (PIL)\n",
    "\n",
    "# import matplotlib.pyplot as plt\n",
    "# # plt.imshow(f)\n",
    "# # plt.show()"
   ]
  },
  {
   "cell_type": "code",
   "execution_count": 10,
   "metadata": {
    "collapsed": false
   },
   "outputs": [
    {
     "name": "stdout",
     "output_type": "stream",
     "text": [
      "(930, 238, 4)\n",
      "uint8\n"
     ]
    }
   ],
   "source": [
    "## Alternative\n",
    "from scipy import misc\n",
    "import glob\n",
    "\n",
    "for image_path in glob.glob('gather_screenshot.png'):\n",
    "    image = misc.imread(image_path)\n",
    "    print(image.shape)\n",
    "    print(image.dtype)"
   ]
  },
  {
   "cell_type": "code",
   "execution_count": 12,
   "metadata": {
    "collapsed": false
   },
   "outputs": [
    {
     "name": "stdout",
     "output_type": "stream",
     "text": [
      "Importing done... (1, 930, 238, 4)\n"
     ]
    }
   ],
   "source": [
    "png = []\n",
    "for image_path in glob.glob(\"gather_screenshot.png\"):\n",
    "    png.append(misc.imread(image_path))    \n",
    "\n",
    "im = np.asarray(png)\n",
    "\n",
    "print('Importing done...', im.shape)"
   ]
  },
  {
   "cell_type": "code",
   "execution_count": 13,
   "metadata": {
    "collapsed": false
   },
   "outputs": [
    {
     "name": "stdout",
     "output_type": "stream",
     "text": [
      "[[[[173 220 191 255]\n",
      "   [175 220 194 255]\n",
      "   [177 220 199 255]\n",
      "   ..., \n",
      "   [171 224 200 255]\n",
      "   [167 219 192 255]\n",
      "   [164 215 188 255]]\n",
      "\n",
      "  [[206 236 215 255]\n",
      "   [206 236 219 255]\n",
      "   [206 236 223 255]\n",
      "   ..., \n",
      "   [203 241 222 255]\n",
      "   [200 236 219 255]\n",
      "   [197 232 216 255]]\n",
      "\n",
      "  [[228 241 228 255]\n",
      "   [226 239 230 255]\n",
      "   [224 237 231 255]\n",
      "   ..., \n",
      "   [221 239 228 255]\n",
      "   [222 238 232 255]\n",
      "   [222 237 234 255]]\n",
      "\n",
      "  ..., \n",
      "  [[197 183 155 255]\n",
      "   [203 178 152 255]\n",
      "   [213 177 155 255]\n",
      "   ..., \n",
      "   [190 155 116 255]\n",
      "   [136 103  71 255]\n",
      "   [123  86  60 255]]\n",
      "\n",
      "  [[190 174 158 255]\n",
      "   [199 173 157 255]\n",
      "   [208 172 159 255]\n",
      "   ..., \n",
      "   [193 163 133 255]\n",
      "   [159 129 100 255]\n",
      "   [152 118  92 255]]\n",
      "\n",
      "  [[187 169 159 255]\n",
      "   [197 170 160 255]\n",
      "   [206 170 162 255]\n",
      "   ..., \n",
      "   [195 167 142 255]\n",
      "   [171 142 115 255]\n",
      "   [168 135 110 255]]]]\n"
     ]
    }
   ],
   "source": [
    "print(im)"
   ]
  },
  {
   "cell_type": "code",
   "execution_count": 4,
   "metadata": {
    "collapsed": false
   },
   "outputs": [
    {
     "data": {
      "text/plain": [
       "(930, 238, 4)"
      ]
     },
     "execution_count": 4,
     "metadata": {},
     "output_type": "execute_result"
    }
   ],
   "source": [
    "gather_sh = misc.imread('gather_screenshot.png')\n",
    "type(gather_sh)      \n",
    "plt.imshow(gather_sh)\n",
    "\n",
    "gather_sh.shape"
   ]
  },
  {
   "cell_type": "code",
   "execution_count": 7,
   "metadata": {
    "collapsed": false
   },
   "outputs": [
    {
     "data": {
      "text/plain": [
       "dtype('uint8')"
      ]
     },
     "execution_count": 7,
     "metadata": {},
     "output_type": "execute_result"
    }
   ],
   "source": [
    "gather_sh.dtype"
   ]
  },
  {
   "cell_type": "code",
   "execution_count": 8,
   "metadata": {
    "collapsed": false
   },
   "outputs": [
    {
     "name": "stderr",
     "output_type": "stream",
     "text": [
      "/Users/justingosses/anaconda/lib/python3.5/site-packages/matplotlib/tight_layout.py:222: UserWarning: tight_layout : falling back to Agg renderer\n",
      "  warnings.warn(\"tight_layout : falling back to Agg renderer\")\n"
     ]
    }
   ],
   "source": [
    "# Compute the Canny filter for two values of sigma\n",
    "edges1 = feature.canny(im)\n",
    "edges2 = feature.canny(im, sigma=3)\n",
    "\n",
    "# display results\n",
    "fig, (ax1, ax2, ax3) = plt.subplots(nrows=1, ncols=3, figsize=(8, 3),\n",
    "                                    sharex=True, sharey=True)\n",
    "\n",
    "ax1.imshow(im, cmap=plt.cm.gray)\n",
    "ax1.axis('off')\n",
    "ax1.set_title('noisy image', fontsize=20)\n",
    "\n",
    "ax2.imshow(edges1, cmap=plt.cm.gray)\n",
    "ax2.axis('off')\n",
    "ax2.set_title('Canny filter, $\\sigma=1$', fontsize=20)\n",
    "\n",
    "ax3.imshow(edges2, cmap=plt.cm.gray)\n",
    "ax3.axis('off')\n",
    "ax3.set_title('Canny filter, $\\sigma=3$', fontsize=20)\n",
    "\n",
    "fig.tight_layout()\n",
    "\n",
    "plt.show()"
   ]
  },
  {
   "cell_type": "code",
   "execution_count": null,
   "metadata": {
    "collapsed": true
   },
   "outputs": [],
   "source": []
  },
  {
   "cell_type": "code",
   "execution_count": null,
   "metadata": {
    "collapsed": true
   },
   "outputs": [],
   "source": []
  }
 ],
 "metadata": {
  "kernelspec": {
   "display_name": "Python 3",
   "language": "python",
   "name": "python3"
  },
  "language_info": {
   "codemirror_mode": {
    "name": "ipython",
    "version": 3
   },
   "file_extension": ".py",
   "mimetype": "text/x-python",
   "name": "python",
   "nbconvert_exporter": "python",
   "pygments_lexer": "ipython3",
   "version": "3.5.2"
  }
 },
 "nbformat": 4,
 "nbformat_minor": 0
}
