{
 "cells": [
  {
   "cell_type": "markdown",
   "metadata": {},
   "source": [
    "# Subroutine 1\n",
    "Generate points based on the labels (taken as an input from the GUI)\n",
    "structure of the point:\n",
    "    (t0, vel, flag (1=hyperbolic, 0=linear), label)"
   ]
  },
  {
   "cell_type": "code",
   "execution_count": 34,
   "metadata": {
    "collapsed": true
   },
   "outputs": [],
   "source": [
    "import random\n",
    "import numpy as np\n",
    "import matplotlib.pylab as plt\n",
    "%matplotlib inline\n",
    "\n",
    "\n",
    "def points_gen(nDA,nR,nCN,nMU):\n",
    "    # The function generates random values of t0 - velocity pairs\n",
    "    # based on number of requested waves:\n",
    "    # nDA - number of direct waves (linear moveout, label 'D')\n",
    "    # nR - number of reflections (hyperbolic moveout, label 'R')\n",
    "    # nCN - number of coherent noise events (linear moveout, label 'N')\n",
    "    # nMU - number of multiples (hyperbolic, label 'M')\n",
    "    # outputs (nDA+nR+nCN) * (4) list\n",
    "    # each point in the list has the following structure\n",
    "    # [t0 (intercept time), velocity, flag(1=hyperbolic, 0=linear), label(see above))]\n",
    "    \n",
    "    \n",
    "    # direct arrival\n",
    "    direct = []\n",
    "    for n in range(nDA):\n",
    "        direct.append([random.uniform(0,.1),random.uniform(.5,1.5),0,'D'])\n",
    "    \n",
    "    reflected = []\n",
    "    for n in range(nR):\n",
    "        reflected.append([random.uniform(0,3),random.uniform(1.5,5),1,'R'])\n",
    "        \n",
    "    noise = []\n",
    "    for n in range(nCN):\n",
    "        noise.append([random.uniform(-2,2),random.uniform(-3,3),0,'N'])\n",
    "        \n",
    "    multiples = []\n",
    "    for n in range(nMU):\n",
    "        noise.append([random.uniform(random.uniform(2,2),4),random.uniform(1.5,2.5),1,'M'])\n",
    "\n",
    "    events = direct + reflected + noise + multiples\n",
    "    return events"
   ]
  },
  {
   "cell_type": "code",
   "execution_count": 35,
   "metadata": {
    "collapsed": true
   },
   "outputs": [],
   "source": [
    "def points_plot(events):\n",
    "    x = [x/1000 for x in range(0,2000,25)]\n",
    "    \n",
    "    fig, ax = plt.subplots()\n",
    "    \n",
    "    # plot waves\n",
    "    for i in events:\n",
    "        if i[3] == 'D':\n",
    "            ax.plot(x,[i[0] + offset/i[1] for offset in x],'r')\n",
    "        if i[3] == 'N':\n",
    "            ax.plot(x,[i[0]+offset/i[1] for offset in x],'b')\n",
    "        if i[3] == 'R':\n",
    "            ax.plot(x,[np.sqrt(i[0]**2 + offset**2 / i[1]**2) for offset in x],'g')\n",
    "        if i[3] == 'M':\n",
    "            ax.plot(x,[np.sqrt(i[0]**2 + offset**2 / i[1]**2) for offset in x],'k')\n",
    "    \n",
    "    plt.ylabel('Time, s')\n",
    "    plt.xlabel('Offset, km')\n",
    "    ax.set_xlim([0,2])\n",
    "    ax.set_ylim([0,4])\n",
    "    ax.invert_yaxis()\n",
    "    ax.set_aspect(1)\n",
    "    return ax"
   ]
  },
  {
   "cell_type": "code",
   "execution_count": 49,
   "metadata": {},
   "outputs": [
    {
     "data": {
      "image/png": "[encoded data removed]",
      "text/plain": [
       "<matplotlib.figure.Figure at 0x94427f0>"
      ]
     },
     "metadata": {},
     "output_type": "display_data"
    }
   ],
   "source": [
    "events=points_gen(2,2,3,2)\n",
    "ax = points_plot(events)\n",
    "plt.show(ax)"
   ]
  },
  {
   "cell_type": "code",
   "execution_count": 50,
   "metadata": {
    "collapsed": true
   },
   "outputs": [],
   "source": [
    "# Convert data in list format to dictionary\n",
    "\n",
    "def makeEventsDict(events):\n",
    "    eventsDict = {}\n",
    "    labelsDict = {}\n",
    "    \n",
    "    labelsDict['label'] = []\n",
    "    eventsDict['direct'], eventsDict['reflected'], eventsDict['coherentnoise'], eventsDict['multiples'] = [],[],[],[]\n",
    "    eventsDict['events'] = []\n",
    "    for each in events:\n",
    "#         print(each)\n",
    "#         print(each[0])\n",
    "#         print(each[3])\n",
    "#         eventsDict['direct'].append(each[0])\n",
    "#         eventsDict['reflected'].append(each[1])\n",
    "#         eventsDict['coherentnoise'].append(each[2])\n",
    "         eventsDict['events'].append(each[0:3])\n",
    "         labelsDict['label'].append(each[3])\n",
    "    return(eventsDict,labelsDict)"
   ]
  },
  {
   "cell_type": "code",
   "execution_count": 52,
   "metadata": {
    "collapsed": true
   },
   "outputs": [],
   "source": [
    "from sklearn import svm\n",
    "SVC = svm.SVC()\n",
    "\n",
    "# This function takes a events list, turns it into two dictionaries combined, splits that into two arrays for X and Y\n",
    "# trains a SVM label on them and then returns that model output details\n",
    "# The model will need to be run on a input for a prediction\n",
    "\n",
    "def comboFunctionA(events):\n",
    "    testEvents = makeEventsDict(events)\n",
    "    eventsDict = testEvents[0]\n",
    "    labelsDict = testEvents[1]\n",
    "    X = eventsDict['events']\n",
    "#     print(\"X = \",X)\n",
    "    y = labelsDict['label']\n",
    "#     print(\"y = \",y)\n",
    "    clf = svm.SVC()\n",
    "    output = clf.fit(X, y)\n",
    "    return(output)"
   ]
  },
  {
   "cell_type": "code",
   "execution_count": 60,
   "metadata": {},
   "outputs": [
    {
     "data": {
      "text/plain": [
       "SVC(C=1.0, cache_size=200, class_weight=None, coef0=0.0,\n",
       "  decision_function_shape=None, degree=3, gamma='auto', kernel='rbf',\n",
       "  max_iter=-1, probability=False, random_state=None, shrinking=True,\n",
       "  tol=0.001, verbose=False)"
      ]
     },
     "execution_count": 60,
     "metadata": {},
     "output_type": "execute_result"
    }
   ],
   "source": [
    "# training on a test set\n",
    "events_train=points_gen(200,200,200,200)\n",
    "\n",
    "tempAnswer = comboFunctionA(events_train)\n",
    "tempAnswer"
   ]
  },
  {
   "cell_type": "code",
   "execution_count": 74,
   "metadata": {},
   "outputs": [
    {
     "data": {
      "text/plain": [
       "array(['D'], \n",
       "      dtype='<U1')"
      ]
     },
     "execution_count": 74,
     "metadata": {},
     "output_type": "execute_result"
    }
   ],
   "source": [
    "tempAnswer.predict([[.1,1.5,0]])"
   ]
  }
 ],
 "metadata": {
  "kernelspec": {
   "display_name": "Python 3",
   "language": "python",
   "name": "python3"
  },
  "language_info": {
   "codemirror_mode": {
    "name": "ipython",
    "version": 3
   },
   "file_extension": ".py",
   "mimetype": "text/x-python",
   "name": "python",
   "nbconvert_exporter": "python",
   "pygments_lexer": "ipython3",
   "version": "3.6.1"
  }
 },
 "nbformat": 4,
 "nbformat_minor": 2
}
