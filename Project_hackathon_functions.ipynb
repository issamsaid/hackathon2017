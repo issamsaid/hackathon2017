{
 "cells": [
  {
   "cell_type": "markdown",
   "metadata": {},
   "source": [
    "## Point generator\n",
    "\n",
    "Generate points based on the labels (taken as an input from the GUI)\n",
    "structure of the point:\n",
    "    (t0, vel, flag (1=hyperbolic, 0=linear), label)"
   ]
  },
  {
   "cell_type": "code",
   "execution_count": 327,
   "metadata": {
    "collapsed": true
   },
   "outputs": [],
   "source": [
    "import random\n",
    "import numpy as np\n",
    "import matplotlib.pylab as plt\n",
    "from scipy import signal\n",
    "from sklearn import svm\n",
    "%matplotlib inline"
   ]
  },
  {
   "cell_type": "code",
   "execution_count": 328,
   "metadata": {
    "collapsed": true
   },
   "outputs": [],
   "source": [
    "def points_gen(nDA,nR,nCN,nMU):\n",
    "    # The function generates random values of t0 - velocity pairs\n",
    "    # based on number of requested waves:\n",
    "    # nDA - number of direct waves (linear moveout, label 'D')\n",
    "    # nR - number of reflections (hyperbolic moveout, label 'R')\n",
    "    # nCN - number of coherent noise events (linear moveout, label 'N')\n",
    "    # nMU - number of multiples (hyperbolic, label 'M')\n",
    "    # outputs (nDA+nR+nCN) * (4) list\n",
    "    # each point in the list has the following structure\n",
    "    # [t0 (intercept time), velocity, flag(1=hyperbolic, 0=linear), label(see above))]\n",
    "    \n",
    "    \n",
    "    # direct arrival\n",
    "    direct = []\n",
    "    for n in range(nDA):\n",
    "        direct.append([random.uniform(0,.1),random.uniform(.5,1.5),0,'D'])\n",
    "    \n",
    "    reflected = []\n",
    "    t0list = []\n",
    "    for n in range(nR):\n",
    "        t0 = random.uniform(0,3)\n",
    "        reflected.append([t0, random.uniform(1.5,3.5), 1, 'R'])\n",
    "        t0list.append(t0)\n",
    "    \n",
    "    multiples = []\n",
    "    if len(reflected) > 0:\n",
    "        for nmult in range(nMU):\n",
    "            multiples.append([random.uniform(min(t0list),4), random.uniform(1.25,1.75), 1 , 'M'])\n",
    "        \n",
    "    noise = []\n",
    "    for n in range(nCN):\n",
    "        noise.append([random.uniform(-3,3),random.uniform(-3,3),0,'N'])\n",
    "        \n",
    "    \n",
    "#    for n in range(nMU):\n",
    "#        noise.append([random.uniform(random.uniform(2,2),4),random.uniform(1.5,2.5),1,'M'])\n",
    "\n",
    "    events = direct + reflected + noise + multiples\n",
    "    return events"
   ]
  },
  {
   "cell_type": "markdown",
   "metadata": {},
   "source": [
    "## Convert points to data\n",
    "\n",
    "Based on a point label, convert the point to t(x) series"
   ]
  },
  {
   "cell_type": "code",
   "execution_count": 329,
   "metadata": {
    "collapsed": true
   },
   "outputs": [],
   "source": [
    "def t_linear(x, v, t):\n",
    "    # return a linear event (direct or coherent noise)\n",
    "    return t + x/v\n",
    "\n",
    "def t_reflected(x,v,t):\n",
    "    return np.sqrt(t**2 + x**2 / v**2)\n",
    "\n",
    "def points_to_data(events, dx = 0.005, xmax = 2):\n",
    "    x = np.arange(0, xmax + dx, dx)\n",
    "    t=[]\n",
    "    labels = []\n",
    "    \n",
    "    for i in events:\n",
    "        if i[3] == 'D' or i[3] == 'N':\n",
    "            t.append(t_linear(x, i[1], i[0]))\n",
    "            labels.append(i[3])\n",
    "        if i[3] == 'R' or i[3] == 'M':\n",
    "            t.append(t_reflected(x,i[1],i[0]))\n",
    "            labels.append(i[3])\n",
    "            \n",
    "    return t, labels, x"
   ]
  },
  {
   "cell_type": "markdown",
   "metadata": {},
   "source": [
    "## Make the data look like seismic\n",
    "\n",
    "Transform the t(x) data into 2D matrix and then convolve with Ricker wavelet"
   ]
  },
  {
   "cell_type": "code",
   "execution_count": 330,
   "metadata": {
    "collapsed": true
   },
   "outputs": [],
   "source": [
    "def conv_ricker(array):\n",
    "    points = 100\n",
    "    a = 4.0\n",
    "    ricker = signal.ricker(points, a)\n",
    "    return np.convolve(array,ricker,mode='same')\n",
    "\n",
    "def data_to_seism(data, x, dt = 0.01, tmax = 4):\n",
    "    dataround = np.round(data,decimals=2)\n",
    "    t = np.arange(0,tmax + dt,dt)\n",
    "    \n",
    "    datamatrix = np.zeros((len(t),len(x)))\n",
    "\n",
    "    for event in dataround:\n",
    "        for n, i in enumerate(event):\n",
    "            idx = np.where((t >= i - 0.0001) & (t <= i + .0001))\n",
    "            if np.size(idx[0]) != 0:\n",
    "                #print(idx[0],n)\n",
    "                datamatrix[idx[0][0]][n] = 1\n",
    "\n",
    "    data_ricker = np.apply_along_axis(conv_ricker, 0, datamatrix)\n",
    "    \n",
    "    \n",
    "    return data_ricker"
   ]
  },
  {
   "cell_type": "markdown",
   "metadata": {},
   "source": [
    "# Visualiation\n",
    "\n",
    "If flag == 1, mark with colors."
   ]
  },
  {
   "cell_type": "code",
   "execution_count": 331,
   "metadata": {
    "collapsed": true
   },
   "outputs": [],
   "source": [
    "def data_plot(events, labels, x, colors = 'no'):\n",
    "    \n",
    "    seismic = data_to_seism(events, x)\n",
    "    \n",
    "    fig, ax = plt.subplots()\n",
    "    ax.imshow(seismic, cmap='gray', interpolation='bicubic', extent=[0,2,4,0]);\n",
    "    \n",
    "    plt.ylabel('Time, s')\n",
    "    plt.xlabel('Offset, km')\n",
    "    \n",
    "    if colors == 'yes':\n",
    "        \n",
    "    # plot waves with colors\n",
    "        for n, event  in enumerate(events):\n",
    "            if labels[n] == 'D':\n",
    "                ax.plot(x,event,'r')\n",
    "            if labels[n] == 'N':\n",
    "                ax.plot(x,event,'b')\n",
    "            if labels[n] == 'R':\n",
    "                ax.plot(x,event,'g')\n",
    "            if labels[n] == 'M':\n",
    "                ax.plot(x,event,'y')\n",
    "    ax.set_xlim([0,2])\n",
    "    ax.set_ylim([0,4])\n",
    "    ax.invert_yaxis()\n",
    "    ax.set_aspect(1)\n",
    "    return ax"
   ]
  },
  {
   "cell_type": "markdown",
   "metadata": {},
   "source": [
    "## Prediction part:\n",
    "1. Convert list of events to dictionary\n",
    "2. Run SVM to obtain the model\n",
    "3. Create \"unseen\" data and test the model\n",
    "4. Calculate number of 'True' and 'False' predictions"
   ]
  },
  {
   "cell_type": "code",
   "execution_count": 377,
   "metadata": {
    "collapsed": true
   },
   "outputs": [],
   "source": [
    "#### A function that turns the events object lists of lists into a python dictionary\n",
    "def makeEventsDict(events):\n",
    "    eventsDict = {}\n",
    "    labelsDict = {}\n",
    "    # direct arrival\n",
    "    labelsDict['label'] = []\n",
    "    eventsDict['direct'], eventsDict['reflected'], eventsDict['coherentnoise'], eventsDict['multiples'] = [],[],[],[]\n",
    "    eventsDict['events'] = []\n",
    "    for each in events:\n",
    "         eventsDict['events'].append(each[0:3])\n",
    "         labelsDict['label'].append(each[3])\n",
    "        \n",
    "    return(eventsDict,labelsDict)"
   ]
  },
  {
   "cell_type": "code",
   "execution_count": 378,
   "metadata": {
    "collapsed": true
   },
   "outputs": [],
   "source": [
    "SVC = svm.SVC()\n",
    "# This function takes a events list, turns it into two dictionaries combined, splits that into two arrays for X and Y\n",
    "# trains a SVM label on them and then returns that model output details\n",
    "# The model will need to be run on a input for a prediction\n",
    "\n",
    "def comboFunctionA(events):\n",
    "    testEvents = makeEventsDict(events)\n",
    "    eventsDict = testEvents[0]\n",
    "    labelsDict = testEvents[1]\n",
    "    X = eventsDict['events']\n",
    "#     print(\"X = \",X)\n",
    "    y = labelsDict['label']\n",
    "#     print(\"y = \",y)\n",
    "    clf = svm.SVC()\n",
    "    output = clf.fit(X, y)\n",
    "    return(output)"
   ]
  },
  {
   "cell_type": "code",
   "execution_count": 379,
   "metadata": {
    "collapsed": true
   },
   "outputs": [],
   "source": [
    "def predict_from_data(events, model):\n",
    "    labels = []\n",
    "    for event in events:\n",
    "        labels.append(model.predict([event[0:3]]))\n",
    "    return labels"
   ]
  },
  {
   "cell_type": "code",
   "execution_count": 353,
   "metadata": {
    "collapsed": true
   },
   "outputs": [],
   "source": [
    "def examineModel(model):\n",
    "    model_examine = {}\n",
    "    model_examine['support_vectors_']= model.support_vectors_\n",
    "    model_examine['support_']= model.support_\n",
    "    model_examine['n_support_']= model.n_support_\n",
    "    model_examine['model']= model\n",
    "#     'support_':model.support_,'n_support_':model.n_support_}\n",
    "    return(model_examine)"
   ]
  },
  {
   "cell_type": "code",
   "execution_count": 354,
   "metadata": {
    "collapsed": true
   },
   "outputs": [],
   "source": [
    "# A function that takes a model and an eventsDictionary and make predictions of labels for the eventsDictionary based on a trained model\n",
    "def testUnseenEvents(model,eventsDict):\n",
    "    score = {}\n",
    "    score['result'] = []\n",
    "    score['test'] = []\n",
    "    score['isCorrect'] = []\n",
    "    x = 0\n",
    "#     eventsTest_eventsDict = eventsDict[0]['events']\n",
    "#     eventsTest_labelsDict = eventsDict[1]['label']\n",
    "    i = 0\n",
    "    while i < len(eventsDict[0]['events']):\n",
    "        each = i\n",
    "#         print(\"each\",each)\n",
    "        eventsTest_eventsDict = eventsDict[0]['events']\n",
    "        eventsTest_labelsDict = eventsDict[1]['label']\n",
    "#         print(\"eventsTest_eventsDict\",eventsTest_eventsDict)\n",
    "#         print(\"eventsTest_labelsDict\",eventsTest_labelsDict)\n",
    "#         print(\"eventsTest_eventsDict[i]\",eventsTest_eventsDict[i])\n",
    "#         print(\"eventsTest_labelsDict[i]\",eventsTest_labelsDict[i])\n",
    "        prediction = model.predict([eventsTest_eventsDict[i]])\n",
    "        if prediction == eventsDict[1]['label'][i]:\n",
    "            isCorrect = \"True\"\n",
    "        else:\n",
    "            isCorrect = \"False\"\n",
    "        score['result'].append(prediction)\n",
    "        score['test'].append(each)\n",
    "        score['isCorrect'].append(isCorrect)\n",
    "        i += 1\n",
    "    return(score)"
   ]
  },
  {
   "cell_type": "code",
   "execution_count": 373,
   "metadata": {
    "collapsed": true
   },
   "outputs": [],
   "source": [
    "def getTrueFalseOfPred(predictionDict):\n",
    "    numberTrueFalse = {'True':0,'False':0,'PerTrue':0,'PerFalse':0,'Total':0}\n",
    "    numberTrueFalse['Total'] = len(predictionDict['isCorrect'])\n",
    "    i = 0\n",
    "    while i < len(predictionDict['isCorrect']):\n",
    "        if predictionDict['isCorrect'][i] == 'True':\n",
    "            numberTrueFalse['True'] = numberTrueFalse['True'] + 1\n",
    "        else:\n",
    "            numberTrueFalse['False'] = numberTrueFalse['False'] + 1 \n",
    "        i = i + 1\n",
    "    numberTrueFalse['PerTrue'] = numberTrueFalse['True'] / numberTrueFalse['Total']\n",
    "    numberTrueFalse['PerFalse'] = numberTrueFalse['False'] / numberTrueFalse['Total']\n",
    "    return(numberTrueFalse)"
   ]
  }
 ],
 "metadata": {
  "kernelspec": {
   "display_name": "Python 3",
   "language": "python",
   "name": "python3"
  },
  "language_info": {
   "codemirror_mode": {
    "name": "ipython",
    "version": 3
   },
   "file_extension": ".py",
   "mimetype": "text/x-python",
   "name": "python",
   "nbconvert_exporter": "python",
   "pygments_lexer": "ipython3",
   "version": "3.6.1"
  }
 },
 "nbformat": 4,
 "nbformat_minor": 2
}
