{
 "cells": [
  {
   "cell_type": "markdown",
   "metadata": {},
   "source": [
    "# Subroutine 1\n",
    "Generate points based on the labels (taken as an input from the GUI)\n",
    "structure of the point:\n",
    "    (t0, vel, flag (1=hyperbolic, 0=linear), label)"
   ]
  },
  {
   "cell_type": "code",
   "execution_count": 326,
   "metadata": {},
   "outputs": [],
   "source": [
    "import random\n",
    "import numpy as np\n",
    "import matplotlib.pylab as plt\n",
    "%matplotlib inline\n",
    "\n",
    "\n",
    "def points_gen(nDA,nR,nCN):\n",
    "    # The function generates random values of t0 - velocity pairs\n",
    "    # based on number of requested waves:\n",
    "    # nDA - number of direct waves (linear moveout, label 'D')\n",
    "    # nR - number of reflections (hyperbolic moveout, label 'R')\n",
    "    # nCN - number of coherent noise events (linear moveout, label 'N')\n",
    "    # outputs (nDA+nR+nCN) * (4) list\n",
    "    # each point in the list has the following structure\n",
    "    # [t0 (intercept time), velocity, flag(1=hyperbolic, 0=linear), label(see above))]\n",
    "    \n",
    "    \n",
    "    # direct arrival\n",
    "    direct = []\n",
    "    n = 1\n",
    "    while (n <= nDA):\n",
    "        direct.append([0,random.uniform(.5,1.5),0,'D'])\n",
    "        n = n+1\n",
    "    \n",
    "    n = 1\n",
    "    reflected = []\n",
    "    while (n <= nR):\n",
    "        reflected.append([random.uniform(0,4),random.uniform(1.5,5),1,'R'])\n",
    "        n = n+1\n",
    "        \n",
    "    n = 1\n",
    "    noise = []\n",
    "    while (n <= nCN):\n",
    "        noise.append([random.uniform(-2,2),random.uniform(-3,3),0,'N'])\n",
    "        n = n+1\n",
    "        \n",
    "    events = direct + reflected + noise\n",
    "    return events"
   ]
  },
  {
   "cell_type": "code",
   "execution_count": 312,
   "metadata": {},
   "outputs": [],
   "source": [
    "def points_plot(events):\n",
    "    x = [x/1000 for x in range(0,2000,25)]\n",
    "    \n",
    "    fig, ax = plt.subplots()\n",
    "    \n",
    "    # plot waves\n",
    "    for i in events:\n",
    "        if i[3] == 'D':\n",
    "            y = [offset/i[1] for offset in x]\n",
    "            ax.plot(x,y,'r')\n",
    "        if i[3] == 'N':\n",
    "            ax.plot(x,[i[0]+offset/i[1] for offset in x],'b')\n",
    "        if i[3] == 'R':\n",
    "            ax.plot(x,[np.sqrt(i[0]**2 + offset**2 / i[1]**2) for offset in x],'g')\n",
    "    \n",
    "    plt.ylabel('Time, s')\n",
    "    plt.xlabel('Offset, km')\n",
    "    ax.set_xlim([0,2])\n",
    "    ax.set_ylim([0,4])\n",
    "    ax.invert_yaxis()\n",
    "    ax.set_aspect(1)\n",
    "    return ax"
   ]
  },
  {
   "cell_type": "code",
   "execution_count": null,
   "metadata": {
    "collapsed": true
   },
   "outputs": [],
   "source": []
  },
  {
   "cell_type": "code",
   "execution_count": 313,
   "metadata": {},
   "outputs": [
    {
     "name": "stdout",
     "output_type": "stream",
     "text": [
      "[0, 1.3474960582076823, 0, 'D']\n",
      "[0, 0.9141813168818035, 0, 'D']\n",
      "[0, 1.394067647452328, 0, 'D']\n"
     ]
    },
    {
     "data": {
      "image/png": "[encoded data removed]",
      "text/plain": [
       "<matplotlib.figure.Figure at 0x9bb5898>"
      ]
     },
     "metadata": {},
     "output_type": "display_data"
    }
   ],
   "source": [
    "events=points_gen(3,2,3)\n",
    "ax = points_plot(events)\n",
    "plt.show(ax)"
   ]
  },
  {
   "cell_type": "code",
   "execution_count": 299,
   "metadata": {},
   "outputs": [
    {
     "data": {
      "text/plain": [
       "[[0, 0.8735225583717141, 0, 'D']]"
      ]
     },
     "execution_count": 299,
     "metadata": {},
     "output_type": "execute_result"
    }
   ],
   "source": [
    "events"
   ]
  },
  {
   "cell_type": "code",
   "execution_count": 272,
   "metadata": {},
   "outputs": [
    {
     "data": {
      "text/plain": [
       "[<matplotlib.lines.Line2D at 0x9ce2fd0>]"
      ]
     },
     "execution_count": 272,
     "metadata": {},
     "output_type": "execute_result"
    }
   ],
   "source": [
    "x = [x/1000 for x in range(0,2000,25)]\n",
    "ax.plot(x,[offset/.5 for offset in x],'r')"
   ]
  },
  {
   "cell_type": "code",
   "execution_count": 274,
   "metadata": {},
   "outputs": [],
   "source": [
    "plt.show()"
   ]
  },
  {
   "cell_type": "code",
   "execution_count": null,
   "metadata": {
    "collapsed": true
   },
   "outputs": [],
   "source": [
    "def t_linear(x, v, t):\n",
    "    # return a linear event (direct or coherent noise)\n",
    "    return t + x/v\n",
    "\n",
    "def t_reflected(x,v,t):\n",
    "    return np.sqrt(t**2 + x**2 / v**2)"
   ]
  },
  {
   "cell_type": "code",
   "execution_count": 340,
   "metadata": {
    "collapsed": true
   },
   "outputs": [],
   "source": [
    "import random\n",
    "import numpy as np\n",
    "import matplotlib.pylab as plt\n",
    "\n",
    "\n",
    "def points_gen_dict(x,nDA=1,nR=1,nCN=1):\n",
    "    # The function generates random values of t0 - velocity pairs\n",
    "    # based on number of requested waves:\n",
    "    # nDA - number of direct waves (linear moveout, label 'D')\n",
    "    # nR - number of reflections (hyperbolic moveout, label 'R')\n",
    "    # nCN - number of coherent noise events (linear moveout, label 'N')\n",
    "    # outputs (nDA+nR+nCN) * (4) list\n",
    "    # each point in the list has the following structure\n",
    "    # [t0 (intercept time), velocity, flag(1=hyperbolic, 0=linear), label(see above))]\n",
    "    # outputs dictionary\n",
    "    \n",
    "    events={}\n",
    "    \n",
    "    # direct arrival\n",
    "    events['direct'], events['reflected'], events['coherent noise'] = [],[],[]\n",
    "    \n",
    "    for n in range(nDA):\n",
    "        events['direct'].append(t_linear(x,random.uniform(.5,1.5),0))\n",
    "        \n",
    "    for n in range(nR):\n",
    "        events['reflected'].append(t_reflected(x,random.uniform(0,4),random.uniform(1.5,5)))\n",
    "        \n",
    "    for n in range(nCN):\n",
    "        events['coherent noise'].append(t_linear(x,random.uniform(-2,2),random.uniform(-3,3)))\n",
    "        \n",
    "    return events"
   ]
  },
  {
   "cell_type": "code",
   "execution_count": 350,
   "metadata": {},
   "outputs": [],
   "source": [
    "dx = .025\n",
    "x = np.arange(0,2+dx,dx)\n",
    "\n",
    "events=points_gen_dict(x,2,3,4)"
   ]
  },
  {
   "cell_type": "code",
   "execution_count": 370,
   "metadata": {},
   "outputs": [
    {
     "data": {
      "text/plain": [
       "(4, 0)"
      ]
     },
     "execution_count": 370,
     "metadata": {},
     "output_type": "execute_result"
    },
    {
     "data": {
      "image/png": "[encoded data removed]",
      "text/plain": [
       "<matplotlib.figure.Figure at 0x9fee860>"
      ]
     },
     "metadata": {},
     "output_type": "display_data"
    }
   ],
   "source": [
    "colors = {'direct': 'red', 'reflected': 'green', 'coherent noise': 'blue'}\n",
    "\n",
    "for k, values in events.items():\n",
    "    for array in values:\n",
    "        plt.plot(x,array,c = colors[k])\n",
    "plt.ylim(4,0)"
   ]
  },
  {
   "cell_type": "code",
   "execution_count": 337,
   "metadata": {},
   "outputs": [
    {
     "data": {
      "text/plain": [
       "(0.56666666666666665, -0.10000000000000001)"
      ]
     },
     "execution_count": 337,
     "metadata": {},
     "output_type": "execute_result"
    },
    {
     "data": {
      "image/png": "[encoded data removed]",
      "text/plain": [
       "<matplotlib.figure.Figure at 0x9f2f518>"
      ]
     },
     "metadata": {},
     "output_type": "display_data"
    }
   ],
   "source": [
    "dt = .025\n",
    "x = np.arange(0,2+dt,dt)\n",
    "\n",
    "t = t_linear(x,3,-0.1)\n",
    "\n",
    "plt.plot(x,t)\n",
    "plt.ylim(np.amax(t),np.amin(t))"
   ]
  },
  {
   "cell_type": "code",
   "execution_count": null,
   "metadata": {
    "collapsed": true
   },
   "outputs": [],
   "source": [
    "for key in points_gen_dict(2,3,4):\n",
    "    plt.plot(x,[offset/i[1] for offset in x])\n",
    "    "
   ]
  }
 ],
 "metadata": {
  "kernelspec": {
   "display_name": "Python 3",
   "language": "python",
   "name": "python3"
  },
  "language_info": {
   "codemirror_mode": {
    "name": "ipython",
    "version": 3
   },
   "file_extension": ".py",
   "mimetype": "text/x-python",
   "name": "python",
   "nbconvert_exporter": "python",
   "pygments_lexer": "ipython3",
   "version": "3.6.1"
  }
 },
 "nbformat": 4,
 "nbformat_minor": 2
}
